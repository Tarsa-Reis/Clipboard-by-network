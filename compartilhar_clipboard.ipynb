{
 "cells": [
  {
   "metadata": {},
   "cell_type": "markdown",
   "source": [
    "# Compartilhamento de Clipboard em Rede\n",
    "Este notebook implementa um sistema que permite compartilhar o conteúdo do clipboard entre computadores na mesma rede.\n",
    "Necessário instalar as seguintes bibliotecas:"
   ],
   "id": "c9fe8aa61de99467"
  },
  {
   "metadata": {},
   "cell_type": "code",
   "outputs": [],
   "execution_count": null,
   "source": [
    "\n",
    "```"
   ],
   "id": "1880c0b31e2ed757"
  },
  {
   "metadata": {},
   "cell_type": "code",
   "outputs": [],
   "execution_count": null,
   "source": [
    "from flask import Flask, jsonify, request\n",
    "import pyperclip\n",
    "import threading\n",
    "\n",
    "app = Flask(__name__)\n",
    "last_clipboard = \"\"\n",
    "\n",
    "@app.route('/get_clipboard', methods=['GET'])\n",
    "def get_clipboard():\n",
    "    return jsonify({'content': last_clipboard})\n",
    "\n",
    "@app.route('/set_clipboard', methods=['POST'])\n",
    "def set_clipboard():\n",
    "    global last_clipboard\n",
    "    data = request.json\n",
    "    last_clipboard = data.get('content', '')\n",
    "    pyperclip.copy(last_clipboard)\n",
    "    return jsonify({'status': 'success'})\n",
    "\n",
    "def run_server():\n",
    "    app.run(host='0.0.0.0', port=5000"
   ],
   "id": "bcfac16883268050"
  },
  {
   "metadata": {},
   "cell_type": "code",
   "outputs": [],
   "execution_count": null,
   "source": [
    "import time\n",
    "import requests\n",
    "import pyperclip\n",
    "\n",
    "def monitor_clipboard():\n",
    "    last_content = pyperclip.paste()\n",
    "\n",
    "    while True:\n",
    "        current_content = pyperclip.paste()\n",
    "        if current_content != last_content:\n",
    "            try:\n",
    "                requests.post('http://localhost:5000/set_clipboard',\n",
    "                            json={'content': current_content})\n",
    "                last_content = current_content\n",
    "            except:\n",
    "                pass\n",
    "        time.sleep(1"
   ],
   "id": "a5896923f89bf6e1"
  },
  {
   "metadata": {},
   "cell_type": "code",
   "outputs": [],
   "execution_count": null,
   "source": [
    "if __name__ == '__main__':\n",
    "    # Inicia o servidor em uma thread separada\n",
    "    server_thread = threading.Thread(target=run_server)\n",
    "    server_thread.daemon = True\n",
    "    server_thread.start()\n",
    "\n",
    "    # Inicia o monitor do clipboard\n",
    "    monitor_clipboard()"
   ],
   "id": "5163cc67253d8b10"
  },
  {
   "metadata": {},
   "cell_type": "markdown",
   "source": [
    "# Como usar\n",
    "1. Execute este script no computador que será o servidor\n",
    "2. Para outros computadores se conectarem, modifique o endereço no código do monitor para o IP do servidor\n",
    "3. Quando algo for copiado (Ctrl+C) em qualquer computador conectado, será sincronizado com os demais"
   ],
   "id": "25e4d1d6000a0bc3"
  },
  {
   "metadata": {},
   "cell_type": "code",
   "outputs": [],
   "execution_count": null,
   "source": [
    "import pyperclip\n",
    "import requests\n",
    "import time\n",
    "\n",
    "def monitor_remote_clipboard(server_ip):\n",
    "    last_content = \"\"\n",
    "    while True:\n",
    "        try:\n",
    "            response = requests.get(f'http://{server_ip}:5000/get_clipboard')\n",
    "            current_content = response.json()['content']\n",
    "\n",
    "            if current_content != last_content:\n",
    "                pyperclip.copy(current_content)\n",
    "                last_content = current_content\n",
    "\n",
    "        except:\n",
    "            pass\n",
    "        time.sleep(1)\n",
    "\n",
    "if __name__ == '__main__':\n",
    "    SERVER_IP = '192.168.1.100'  # Substitua pelo IP do servidor\n",
    "    monitor_remote_clipboard(SERVER_IP)"
   ],
   "id": "a387af1c368c9a68"
  }
 ],
 "metadata": {
  "kernelspec": {
   "display_name": "Python 3",
   "language": "python",
   "name": "python3"
  },
  "language_info": {
   "codemirror_mode": {
    "name": "ipython",
    "version": 2
   },
   "file_extension": ".py",
   "mimetype": "text/x-python",
   "name": "python",
   "nbconvert_exporter": "python",
   "pygments_lexer": "ipython2",
   "version": "2.7.6"
  }
 },
 "nbformat": 4,
 "nbformat_minor": 5
}
